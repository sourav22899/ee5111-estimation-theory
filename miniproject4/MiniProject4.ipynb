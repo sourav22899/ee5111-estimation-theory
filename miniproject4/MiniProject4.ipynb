{
  "nbformat": 4,
  "nbformat_minor": 0,
  "metadata": {
    "colab": {
      "name": "MiniProject4.ipynb",
      "provenance": [],
      "collapsed_sections": []
    },
    "kernelspec": {
      "name": "python3",
      "display_name": "Python 3"
    }
  },
  "cells": [
    {
      "cell_type": "code",
      "metadata": {
        "id": "yIYCmhTTjzr-",
        "colab_type": "code",
        "colab": {}
      },
      "source": [
        "import numpy as np\n",
        "import scipy as sp\n",
        "from scipy.special import multigammaln\n",
        "from scipy.stats import invwishart, invgamma\n",
        "import matplotlib.pyplot as plt\n",
        "# Generate the same set of random samples across different runs of the notebook\n",
        "np.random.seed(1331)"
      ],
      "execution_count": null,
      "outputs": []
    },
    {
      "cell_type": "code",
      "metadata": {
        "id": "9nwTM9yikzpV",
        "colab_type": "code",
        "colab": {}
      },
      "source": [
        "mean = np.zeros(2)\n",
        "covariance = np.asarray([[1,0],[0,2]])\n",
        "N = [10,100,1000]"
      ],
      "execution_count": null,
      "outputs": []
    },
    {
      "cell_type": "markdown",
      "metadata": {
        "id": "y5aO26INqJQt",
        "colab_type": "text"
      },
      "source": [
        "# **Question 1**\n",
        "We estimate the covariance matrix using a Maximum Likelihood approach.\n",
        "\n"
      ]
    },
    {
      "cell_type": "code",
      "metadata": {
        "id": "XJLoiORsoe2Y",
        "colab_type": "code",
        "colab": {
          "base_uri": "https://localhost:8080/",
          "height": 250
        },
        "outputId": "afb15fdf-3a59-4ab7-f420-8686184f4293"
      },
      "source": [
        "def get_outer(y):\n",
        "    # get outer products for a list of  vectors y of shape (n, d)\n",
        "    return np.expand_dims(y, axis=1)*np.expand_dims(y, axis=2)\n",
        "\n",
        "errors = dict()\n",
        "for n in N:\n",
        "    np.random.seed(1331)\n",
        "    y = np.random.multivariate_normal(mean, covariance, n)\n",
        "    S = (y-mean).T@(y-mean)/n\n",
        "    error = np.mean((S-covariance)**2)\n",
        "    errors[n] = error\n",
        "    '''\n",
        "    Equivalent to-\n",
        "    S = np.zeros_like(covariance)\n",
        "    for i in range(n):\n",
        "    S = S+np.outer(y[i], y[i])\n",
        "    S = S/n\n",
        "    '''\n",
        "    print(f'For n={n}, the ML estimate of the covariance is :\\n {S}\\n')\n",
        "print(f\"The MSE for different values of n: \", errors)"
      ],
      "execution_count": null,
      "outputs": [
        {
          "output_type": "stream",
          "text": [
            "For n=10, the ML estimate of the covariance is :\n",
            " [[ 0.23404612 -0.23014765]\n",
            " [-0.23014765  1.5964973 ]]\n",
            "\n",
            "For n=100, the ML estimate of the covariance is :\n",
            " [[0.78739204 0.00468903]\n",
            " [0.00468903 1.76640547]]\n",
            "\n",
            "For n=1000, the ML estimate of the covariance is :\n",
            " [[ 0.96045475 -0.0267397 ]\n",
            " [-0.0267397   1.86165738]]\n",
            "\n",
            "The MSE for different values of n:  {10: 0.21385891597060924, 100: 0.02495313032570341, 1000: 0.005533132614184367}\n"
          ],
          "name": "stdout"
        }
      ]
    },
    {
      "cell_type": "markdown",
      "metadata": {
        "id": "E_5_GHqgsW_q",
        "colab_type": "text"
      },
      "source": [
        "# **Question 2**\n",
        "We perform Bayesian estimation using the given inverse Wishart prior. We choose the mode of the posterior distribution (MAP) as our point estimate for the covariance matrix."
      ]
    },
    {
      "cell_type": "code",
      "metadata": {
        "id": "Y-kKYHYOrjQl",
        "colab_type": "code",
        "colab": {}
      },
      "source": [
        "delta_0 = np.asarray([[4,0],[0,5]])\n",
        "v_0 = 5\n",
        "d = 2"
      ],
      "execution_count": null,
      "outputs": []
    },
    {
      "cell_type": "code",
      "metadata": {
        "id": "A_dp6qc8q7i3",
        "colab_type": "code",
        "colab": {
          "base_uri": "https://localhost:8080/",
          "height": 358
        },
        "outputId": "c625940e-1faa-4610-be66-b91342848a5a"
      },
      "source": [
        "errors = dict()\n",
        "for n in N:\n",
        "    vn = v_0 + n\n",
        "    np.random.seed(1331)\n",
        "    y = np.random.multivariate_normal(mean, covariance, n)\n",
        "    S = y.T@y\n",
        "    delta_n = delta_0 + S\n",
        "    error = np.mean(delta_n/(vn+d+1)-covariance)**2\n",
        "    print('abs error :', (delta_n/(vn+d+1)-covariance)**2)\n",
        "    errors[n] = error\n",
        "    \"\"\"\n",
        "    mode of inverse wishart is delta/(v+d+1)\n",
        "    \"\"\"\n",
        "    print(f'For n={n}, the MAP estimate is :\\n{delta_n/(vn+d+1)}\\n')\n",
        "print(f\"The MSE for different values of n: \", errors)"
      ],
      "execution_count": null,
      "outputs": [
        {
          "output_type": "stream",
          "text": [
            "abs error : [[0.41958286 0.01634813]\n",
            " [0.01634813 0.69769147]]\n",
            "For n=10, the MAP estimate is :\n",
            "[[ 0.35224784 -0.12785981]\n",
            " [-0.12785981  1.16472072]]\n",
            "\n",
            "abs error : [[5.47074585e-02 1.88503438e-05]\n",
            " [1.88503438e-05 1.01215021e-01]]\n",
            "For n=100, the MAP estimate is :\n",
            "[[0.76610374 0.0043417 ]\n",
            " [0.0043417  1.68185692]]\n",
            "\n",
            "abs error : [[0.00186621 0.00070371]\n",
            " [0.00070371 0.0219506 ]]\n",
            "For n=1000, the MAP estimate is :\n",
            "[[ 0.95680035 -0.02652748]\n",
            " [-0.02652748  1.85184264]]\n",
            "\n",
            "The MSE for different values of n:  {10: 0.18895345048604156, 100: 0.018452229984529247, 1000: 0.003733575799003263}\n"
          ],
          "name": "stdout"
        }
      ]
    },
    {
      "cell_type": "markdown",
      "metadata": {
        "id": "68ASSZs5tDxK",
        "colab_type": "text"
      },
      "source": [
        "# **Question 3**"
      ]
    },
    {
      "cell_type": "code",
      "metadata": {
        "id": "WR4ZIVSq50LI",
        "colab_type": "code",
        "colab": {
          "base_uri": "https://localhost:8080/",
          "height": 505
        },
        "outputId": "c8cd0887-31ee-4f0a-8acd-f2eaeefce445"
      },
      "source": [
        "K = [1.5, 2]\n",
        "errors = np.zeros((len(N), len(K)))\n",
        "for n in N:\n",
        "    for k in K:\n",
        "        np.random.seed(1331)\n",
        "        y = np.random.multivariate_normal(mean, covariance, n)\n",
        "        S = y.T@y\n",
        "        S = S/(n+2*k)\n",
        "        error = np.mean((S-covariance)**2)\n",
        "        errors[N.index(n), K.index(k)] = error\n",
        "\n",
        "        print(f'For n={n} and k={k}, the covariance estimate is\\n {S}\\n')\n",
        "print(f\"The MSE for different configurations are:\\n{errors}\")"
      ],
      "execution_count": null,
      "outputs": [
        {
          "output_type": "stream",
          "text": [
            "For n=10 and k=1.5, the covariance estimate is\n",
            " [[ 0.18003547 -0.17703666]\n",
            " [-0.17703666  1.22807485]]\n",
            "\n",
            "For n=10 and k=2, the covariance estimate is\n",
            " [[ 0.1671758  -0.16439118]\n",
            " [-0.16439118  1.14035522]]\n",
            "\n",
            "For n=100 and k=1.5, the covariance estimate is\n",
            " [[0.76445829 0.00455246]\n",
            " [0.00455246 1.71495677]]\n",
            "\n",
            "For n=100 and k=2, the covariance estimate is\n",
            " [[0.75710773 0.00450869]\n",
            " [0.00450869 1.6984668 ]]\n",
            "\n",
            "For n=1000 and k=1.5, the covariance estimate is\n",
            " [[ 0.95758201 -0.02665972]\n",
            " [-0.02665972  1.85608911]]\n",
            "\n",
            "For n=1000 and k=2, the covariance estimate is\n",
            " [[ 0.95662824 -0.02663317]\n",
            " [-0.02663317  1.85424042]]\n",
            "\n",
            "The MSE for different configurations are:\n",
            "[[0.33272355 0.37165856]\n",
            " [0.03419275 0.0374899 ]\n",
            " [0.00598278 0.0061364 ]]\n"
          ],
          "name": "stdout"
        }
      ]
    },
    {
      "cell_type": "markdown",
      "metadata": {
        "id": "DlcXB7iWAc1M",
        "colab_type": "text"
      },
      "source": [
        "# **Question 4**\n",
        "Here, we obtain the mean of the posterior distribution with Monte-Carlo integration"
      ]
    },
    {
      "cell_type": "code",
      "metadata": {
        "id": "4z6rs2lZ_tzj",
        "colab_type": "code",
        "colab": {}
      },
      "source": [
        "d = 2\n",
        "M = [1e3, 1e4, 1e5] # configurations for m\n",
        "M = list(map(int, M)) # convert to int\n",
        "# prior parameters\n",
        "delta_0 = np.asarray([[4,0],[0,5]])\n",
        "v_0 = 5"
      ],
      "execution_count": null,
      "outputs": []
    },
    {
      "cell_type": "code",
      "metadata": {
        "id": "8w7U9xVOBvRx",
        "colab_type": "code",
        "colab": {
          "base_uri": "https://localhost:8080/",
          "height": 715
        },
        "outputId": "1a67b115-11a0-44a9-c878-c3de36e222b4"
      },
      "source": [
        "def get_pow(y, sigma):  # returns the exp term in joint prob of yi's\n",
        "    # y should be of shape (n, d)\n",
        "    return -0.5 * (y@np.linalg.inv(sigma)*y).sum()\n",
        "\n",
        "errors = np.zeros((len(N), len(M)))\n",
        "for n in N:\n",
        "    for m in M:\n",
        "        np.random.seed(1331)\n",
        "        y = np.random.multivariate_normal(mean, covariance, n)  # draw samples\n",
        "        sigma_draws = invwishart.rvs(\n",
        "            df=v_0, scale=delta_0, size=m, random_state=1331)\n",
        "        # get list of determinants\n",
        "        dets = list(map(np.linalg.det, sigma_draws))\n",
        "        dets = np.array(dets)\n",
        "        dets = np.abs(dets)\n",
        "        # get list of powers in exp term\n",
        "        exps = [get_pow(y, sigma) for sigma in sigma_draws]\n",
        "        exps = np.array(exps)\n",
        "        assert len(exps) == m\n",
        "        exp_pow_and_det = exps - n * np.log(dets)/2\n",
        "        # subtract the maximum to avoid underflow issues\n",
        "        exp_pow_and_det = exp_pow_and_det - np.max(exp_pow_and_det)\n",
        "        exps = np.exp(exp_pow_and_det)  # denominator terms\n",
        "\n",
        "        mc_probs = np.multiply(\n",
        "            sigma_draws, exps[:, None, None])  # numerator terms\n",
        "        mc_probs = np.mean(mc_probs, axis=0)\n",
        "        mc_det_exp = np.mean(exps, axis=0)\n",
        "        mc_est = mc_probs/mc_det_exp\n",
        "        error = np.mean((mc_est-covariance)**2)\n",
        "        errors[N.index(n), M.index(m)] = error\n",
        "        print(f'The Monte Carlo estimate for n={n} and m={m} is :\\n{mc_est}\\n')\n",
        "print(f\"The MSE for different configurations are:\\n{errors}\")"
      ],
      "execution_count": null,
      "outputs": [
        {
          "output_type": "stream",
          "text": [
            "The Monte Carlo estimate for n=10 and m=1000 is :\n",
            "[[ 0.51396914 -0.15473103]\n",
            " [-0.15473103  1.69107867]]\n",
            "\n",
            "The Monte Carlo estimate for n=10 and m=10000 is :\n",
            "[[ 0.52164579 -0.18104767]\n",
            " [-0.18104767  1.72601857]]\n",
            "\n",
            "The Monte Carlo estimate for n=10 and m=100000 is :\n",
            "[[ 0.52765013 -0.1918839 ]\n",
            " [-0.1918839   1.75308326]]\n",
            "\n",
            "The Monte Carlo estimate for n=100 and m=1000 is :\n",
            "[[ 0.82797847 -0.01540917]\n",
            " [-0.01540917  1.79003539]]\n",
            "\n",
            "The Monte Carlo estimate for n=100 and m=10000 is :\n",
            "[[0.80470482 0.01213497]\n",
            " [0.01213497 1.7633306 ]]\n",
            "\n",
            "The Monte Carlo estimate for n=100 and m=100000 is :\n",
            "[[0.81197206 0.00433997]\n",
            " [0.00433997 1.78257587]]\n",
            "\n",
            "The Monte Carlo estimate for n=1000 and m=1000 is :\n",
            "[[ 0.92138389 -0.00835238]\n",
            " [-0.00835238  1.96858072]]\n",
            "\n",
            "The Monte Carlo estimate for n=1000 and m=10000 is :\n",
            "[[ 0.95396398 -0.0135664 ]\n",
            " [-0.0135664   1.84490454]]\n",
            "\n",
            "The Monte Carlo estimate for n=1000 and m=100000 is :\n",
            "[[ 0.95757582 -0.02296548]\n",
            " [-0.02296548  1.86585303]]\n",
            "\n",
            "The MSE for different configurations are:\n",
            "[[0.09488544 0.09236127 0.08943029]\n",
            " [0.01853786 0.02361178 0.02066636]\n",
            " [0.0018268  0.0066355  0.00521251]]\n"
          ],
          "name": "stdout"
        }
      ]
    },
    {
      "cell_type": "code",
      "metadata": {
        "id": "hMopEjDoT20B",
        "colab_type": "code",
        "colab": {}
      },
      "source": [
        "# different prior parameters\n",
        "d = 2\n",
        "M = [1e3, 1e4, 1e5] # configurations for m\n",
        "M = list(map(int, M)) # convert to int\n",
        "# prior parameters\n",
        "delta_0 = np.asarray([[2,0],[0,4]])\n",
        "v_0 = 5"
      ],
      "execution_count": null,
      "outputs": []
    },
    {
      "cell_type": "code",
      "metadata": {
        "id": "Bl89n-vKT-QM",
        "colab_type": "code",
        "colab": {
          "base_uri": "https://localhost:8080/",
          "height": 715
        },
        "outputId": "1832c3ad-d8f0-4f4d-cef4-36d08386ae22"
      },
      "source": [
        "errors = np.zeros((len(N), len(M)))\n",
        "for n in N:\n",
        "    for m in M:\n",
        "        np.random.seed(1331)\n",
        "        y = np.random.multivariate_normal(mean, covariance, n)  # draw samples\n",
        "        sigma_draws = invwishart.rvs(\n",
        "            df=v_0, scale=delta_0, size=m, random_state=1331)\n",
        "        # get list of determinants\n",
        "        dets = list(map(np.linalg.det, sigma_draws))\n",
        "        dets = np.array(dets)\n",
        "        dets = np.abs(dets)\n",
        "        # get list of powers in exp term\n",
        "        exps = [get_pow(y, sigma) for sigma in sigma_draws]\n",
        "        exps = np.array(exps)\n",
        "        assert len(exps) == m\n",
        "        exp_pow_and_det = exps - n * np.log(dets)/2\n",
        "        # subtract the maximum to avoid underflow issues\n",
        "        exp_pow_and_det = exp_pow_and_det - np.max(exp_pow_and_det)\n",
        "        exps = np.exp(exp_pow_and_det)  # denominator terms\n",
        "        mc_probs = np.multiply(\n",
        "            sigma_draws, exps[:, None, None])  # numerator terms\n",
        "        mc_probs = np.mean(mc_probs, axis=0)\n",
        "        mc_det_exp = np.mean(exps, axis=0)\n",
        "        mc_est = mc_probs/mc_det_exp\n",
        "        error = np.mean((mc_est-covariance)**2)\n",
        "        errors[N.index(n), M.index(m)] = error\n",
        "        print(f'The Monte Carlo estimate for n={n} and m={m} is :\\n{mc_est}\\n')\n",
        "print(f\"The MSE for different configurations are:\\n{errors}\")"
      ],
      "execution_count": null,
      "outputs": [
        {
          "output_type": "stream",
          "text": [
            "The Monte Carlo estimate for n=10 and m=1000 is :\n",
            "[[ 0.36413297 -0.15657764]\n",
            " [-0.15657764  1.58559334]]\n",
            "\n",
            "The Monte Carlo estimate for n=10 and m=10000 is :\n",
            "[[ 0.36075189 -0.18418298]\n",
            " [-0.18418298  1.64330882]]\n",
            "\n",
            "The Monte Carlo estimate for n=10 and m=100000 is :\n",
            "[[ 0.36159466 -0.19190591]\n",
            " [-0.19190591  1.6706303 ]]\n",
            "\n",
            "The Monte Carlo estimate for n=100 and m=1000 is :\n",
            "[[ 0.84167801 -0.01667896]\n",
            " [-0.01667896  1.81482923]]\n",
            "\n",
            "The Monte Carlo estimate for n=100 and m=10000 is :\n",
            "[[0.78269321 0.02247481]\n",
            " [0.02247481 1.78066563]]\n",
            "\n",
            "The Monte Carlo estimate for n=100 and m=100000 is :\n",
            "[[0.79354022 0.00619282]\n",
            " [0.00619282 1.76846065]]\n",
            "\n",
            "The Monte Carlo estimate for n=1000 and m=1000 is :\n",
            "[[0.9448025  0.00497156]\n",
            " [0.00497156 2.04607127]]\n",
            "\n",
            "The Monte Carlo estimate for n=1000 and m=10000 is :\n",
            "[[0.94808812 0.00559614]\n",
            " [0.00559614 1.82540211]]\n",
            "\n",
            "The Monte Carlo estimate for n=1000 and m=100000 is :\n",
            "[[ 0.96476384 -0.02512341]\n",
            " [-0.02512341  1.85828241]]\n",
            "\n",
            "The MSE for different configurations are:\n",
            "[[0.15627322 0.15092837 0.14742538]\n",
            " [0.01497761 0.02408501 0.0240782 ]\n",
            " [0.00130469 0.00831048 0.00564696]]\n"
          ],
          "name": "stdout"
        }
      ]
    },
    {
      "cell_type": "markdown",
      "metadata": {
        "id": "knfAWiTK3KWE",
        "colab_type": "text"
      },
      "source": [
        "# **Question 5**\n",
        "Heirarchical model with Gibbs sampling"
      ]
    },
    {
      "cell_type": "code",
      "metadata": {
        "id": "YXe9xJhUwZY7",
        "colab_type": "code",
        "colab": {}
      },
      "source": [
        "A1 = 0.05\n",
        "A2 = 0.05\n",
        "A =  [A1, A2]\n",
        "d = 2\n",
        "nu = 5\n",
        "n_iters = 1000"
      ],
      "execution_count": null,
      "outputs": []
    },
    {
      "cell_type": "code",
      "metadata": {
        "id": "2tyCFPTx3UqV",
        "colab_type": "code",
        "colab": {
          "base_uri": "https://localhost:8080/",
          "height": 261
        },
        "outputId": "ffd6a40a-5f4a-4e01-c3a3-b14ba08b7936"
      },
      "source": [
        "errors = dict()\n",
        "for n in N:\n",
        "    np.random.seed(1331)\n",
        "    y = np.random.multivariate_normal(mean, covariance, n)  # draw samples\n",
        "    outer_prods = get_outer(y)\n",
        "    a = [0, 0]\n",
        "    for j in range(2):\n",
        "        a[j] = invgamma.rvs(1/2, scale=1/A[j]**2, random_state=1331)\n",
        "    for i in range(n_iters):\n",
        "        scale = 2*nu*np.diag([1/a[0], 1/a[1]]) + np.sum(outer_prods, axis=0)\n",
        "        sigma = invwishart.rvs(\n",
        "            df=nu + d + n - 1, scale=scale, size=1, random_state=1331)\n",
        "        sigma_inv = np.linalg.inv(sigma)\n",
        "        for j in range(2):\n",
        "            a[j] = invgamma.rvs((nu + n)/2, scale=nu *\n",
        "                                sigma_inv[j, j] + 1/A[j]**2, random_state=1331)\n",
        "    final_scale = 2*nu*np.diag([1/a[0], 1/a[1]]) + np.sum(outer_prods, axis=0)\n",
        "    final_nu = nu + d + n - 1\n",
        "    sigma = final_scale/(final_nu + d + 1)  # mode\n",
        "    error = np.mean((sigma-covariance)**2)\n",
        "    errors[n] = error\n",
        "    print(f'The estimate from Gibbs sampling, for n={n} is :\\n{sigma}\\n')\n",
        "print(f\"The MSE for different values of n are:\\n{errors}\")"
      ],
      "execution_count": null,
      "outputs": [
        {
          "output_type": "stream",
          "text": [
            "The estimate from Gibbs sampling, for n=10 is :\n",
            "[[ 0.13927721 -0.12113034]\n",
            " [-0.12113034  0.85740062]]\n",
            "\n",
            "The estimate from Gibbs sampling, for n=100 is :\n",
            "[[0.7373825  0.00430187]\n",
            " [0.00430187 1.63568748]]\n",
            "\n",
            "The estimate from Gibbs sampling, for n=1000 is :\n",
            "[[ 0.96519996 -0.02650119]\n",
            " [-0.02650119  1.85844442]]\n",
            "\n",
            "The MSE for different values of n are:\n",
            "{10: 0.5189305469766614, 100: 0.05043214384452743, 1000: 0.0056634124420815455}\n"
          ],
          "name": "stdout"
        }
      ]
    },
    {
      "cell_type": "markdown",
      "metadata": {
        "id": "3pThuMzsa1wL",
        "colab_type": "text"
      },
      "source": [
        "# **Question 6**\n",
        "Empirical Bayes"
      ]
    },
    {
      "cell_type": "code",
      "metadata": {
        "id": "LPAROgfI1gVy",
        "colab_type": "code",
        "colab": {
          "base_uri": "https://localhost:8080/",
          "height": 313
        },
        "outputId": "7d8a0fa4-62e9-45d2-9c2d-1c4d79b70a83"
      },
      "source": [
        "# Newton Raphson method\n",
        "thresh = 1e-5  # stopping criteria\n",
        "eps = 1e-8\n",
        "n = 1000\n",
        "d = 2\n",
        "errors = dict()\n",
        "for n in N:\n",
        "    diff = np.inf\n",
        "    nu = d-1 + eps  # initialisation\n",
        "    k = 0\n",
        "    np.random.seed(1331)\n",
        "    y = np.random.multivariate_normal(mean, covariance, n)  # draw samples\n",
        "    while diff > thresh:\n",
        "        grad_ = np.array([1/(nu+n-i+1-2*j + 1e-8)\n",
        "                          for i in range(1, d+1) for j in range(1, n//2+1)])\n",
        "        grad = np.log((nu+n)/nu) - np.sum(grad_)\n",
        "        grad_grad = 1/(nu + n) - 1/nu + np.sum(grad_**2)\n",
        "        diff = abs(grad/(grad_grad))\n",
        "        nu = nu - grad/(grad_grad)\n",
        "        k += 1\n",
        "    print(f'Convergence to {nu} achieved in {k} step(s)')\n",
        "    nu_opt = nu\n",
        "    S = y.T@y/n\n",
        "    delta_opt = nu_opt*S\n",
        "    nu_n = nu_opt+n\n",
        "    delta_n = delta_opt + n*S\n",
        "    errors[n] = np.mean((delta_n/(nu_n+d+1)-covariance)**2)\n",
        "    print(f'The MAP estimate for n={n} is :\\n{delta_n/(nu_n+d+1)}\\n')\n",
        "print(f\"The MSE for different values of n are:\\n{errors}\")"
      ],
      "execution_count": null,
      "outputs": [
        {
          "output_type": "stream",
          "text": [
            "Convergence to 1.000000030000001 achieved in 1 step(s)\n",
            "The MAP estimate for n=10 is :\n",
            "[[ 0.18389338 -0.1808303 ]\n",
            " [-0.1808303   1.25439074]]\n",
            "\n",
            "Convergence to 1.0000000299999938 achieved in 1 step(s)\n",
            "The MAP estimate for n=100 is :\n",
            "[[0.76467881 0.00455377]\n",
            " [0.00455377 1.71545147]]\n",
            "\n",
            "Convergence to 1.000000030000008 achieved in 1 step(s)\n",
            "The MAP estimate for n=1000 is :\n",
            "[[ 0.95758487 -0.0266598 ]\n",
            " [-0.0266598   1.85609466]]\n",
            "\n",
            "The MSE for different values of n are:\n",
            "{10: 0.32184059629275674, 100: 0.034096350793425365, 1000: 0.005982320213016426}\n"
          ],
          "name": "stdout"
        }
      ]
    },
    {
      "cell_type": "markdown",
      "metadata": {
        "id": "1opuNiv8-Gmw",
        "colab_type": "text"
      },
      "source": [
        "# **More about the Objective Function in Question 6**\n",
        "\n",
        "Some visualizations of the objective function for Empirical Bayes."
      ]
    },
    {
      "cell_type": "code",
      "metadata": {
        "id": "F3HLHWE3-E38",
        "colab_type": "code",
        "colab": {
          "base_uri": "https://localhost:8080/",
          "height": 1000
        },
        "outputId": "46890abf-3a0d-4a7f-b174-3191b28b2bab"
      },
      "source": [
        "def objective(v, n, d=5):\n",
        "    val = v*np.log(1+n/v) + n*np.log(1+v/n) + \\\n",
        "        np.log(multigammaln(v/2, d)/multigammaln((v+n)/2, d))\n",
        "    return val\n",
        "d = 5\n",
        "eps  =1e-8\n",
        "for n in N:\n",
        "    grid1 = np.linspace(d-1+eps, 5, 1000000)\n",
        "    func_vals1 = objective(grid1, n)\n",
        "    grid2 = np.linspace(d-1+eps, 100, 1000000)\n",
        "    func_vals2 = objective(grid2, n)\n",
        "    fig, a = plt.subplots(1, 2)\n",
        "    fig.set_figheight(8)\n",
        "    fig.set_figwidth(16)\n",
        "    a[0].plot(grid1, func_vals1)\n",
        "    a[1].plot(grid2, func_vals2)\n",
        "    a[0].set_title(f\"objective function: n = {n}, smaller values of mu\")\n",
        "    a[1].set_title(f\"objective function: n = {n}, larger values of mu\")\n",
        "    plt.show()\n"
      ],
      "execution_count": null,
      "outputs": [
        {
          "output_type": "display_data",
          "data": {
            "image/png": "[encoded data removed]",
            "text/plain": [
              "<Figure size 1152x576 with 2 Axes>"
            ]
          },
          "metadata": {
            "tags": [],
            "needs_background": "light"
          }
        },
        {
          "output_type": "display_data",
          "data": {
            "image/png": "[encoded data removed]",
            "text/plain": [
              "<Figure size 1152x576 with 2 Axes>"
            ]
          },
          "metadata": {
            "tags": [],
            "needs_background": "light"
          }
        },
        {
          "output_type": "display_data",
          "data": {
            "image/png": "[encoded data removed]",
            "text/plain": [
              "<Figure size 1152x576 with 2 Axes>"
            ]
          },
          "metadata": {
            "tags": [],
            "needs_background": "light"
          }
        }
      ]
    },
    {
      "cell_type": "code",
      "metadata": {
        "id": "yguAnY75LHN8",
        "colab_type": "code",
        "colab": {}
      },
      "source": [
        ""
      ],
      "execution_count": null,
      "outputs": []
    }
  ]
}